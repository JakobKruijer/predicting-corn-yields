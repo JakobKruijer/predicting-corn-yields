{
 "cells": [
  {
   "cell_type": "markdown",
   "metadata": {},
   "source": [
    "# Prediciting crop yield using weather data\n",
    "\n",
    "The Netherlands is a farming country. 54% of its already small surface is being used for farming (CBS, 2018). In 2020, The Netherlands exported 95,6 billion euros worth of agricultural goods (Rijksoverheid, 2021). With that in mind, it comes as no surprise that the Netherlands is highly dependent on the performance of its farmers. Although farmers in the Netherlands are constantly using new ways to maximize their yields, there are still external factors that they cannot influence. \n",
    "\n",
    "One of these critical factors is the weather. Unexpected long periods of drought or very low temperatures are just some examples that can have a big impact on the yield of crops. The earth combined land and ocean temperature has increased at an average rate of 0.18 degrees Celcius per decade since 1981 (Lindsey & Dahlman, 2021). With global warming increasing worldwide, farmers must take the impact of the climate on their crops very serious. Therefore, the goal of this notebook is to use weather data to predict the yield of crops. Knowing beforehand what the yield of a particular crop is going to be has many practical implications. For example, farmers can use this data to determine what crops they should pick, predict their income, or how much they need to keep in storage. \n",
    "\n",
    "Moreover, the projected world population in 2050 is 9.7 billion (United Nations). Combined with global warming increasing worldwide, the need for food security is becoming an increasingly more serious issue for people, businesses and governments all over the world. Therefore, knowing beforehand what supply to expect from crops can be beneficial knowledge in determining strategies for battling food shortages."
   ]
  },
  {
   "cell_type": "markdown",
   "metadata": {},
   "source": [
    "## Exploring datasets\n",
    "In this notebook, the weather data and crop data are collected separately. There are many different datasets for weather and crop data. In this section, some of these possible options are considered. Each dataset is cleaned and transformed to make them suitable for the model. Afterwards, the datasets are compared, and the most appropriate dataset for the model is chosen.\n",
    "\n",
    "\n",
    "### Data set 1.0: weather data in the Netherlands\n",
    "The first option is predicting the vegetable production in the Netherlands using Dutch weather data. \n",
    "\n",
    "Initially, the Climate Data API from The World Bank is used to gather the weather data. Although the data is already in the correct format, it only includes precipitation and temperature data. More data is needed for the model to work correctly. Therefore, it is decided to collect the weather data through the Meteostat Python library, which includes more extensive weather information such as minimum and maximum temperatures. Since the data on vegetable yield is only available from 1961 till 2014, the period for the weather data is set to match this. Meteostat collects data from each weather station in the world. In this case, the weather station in De Bilt (WMO code: 06260) is chosen because it is located central to the Netherlands and has the most complete data. The data frequency is then aggregated to a year since the crop data is also yearly. After the data is fetched, some steps are performed to clean the data."
   ]
  },
  {
   "cell_type": "code",
   "execution_count": 25,
   "metadata": {},
   "outputs": [],
   "source": [
    "# import packages\n",
    "from datetime import datetime\n",
    "from meteostat import Daily\n",
    "import numpy as np\n",
    "import pandas as pd\n",
    "from functools import reduce\n",
    "import seaborn as sns\n",
    "import matplotlib.pyplot as plt\n",
    "from sklearn.model_selection import train_test_split\n",
    "from sklearn.linear_model import LinearRegression\n",
    "from sklearn.ensemble import RandomForestRegressor\n",
    "from sklearn.metrics import r2_score\n",
    "from sklearn.metrics import mean_squared_error\n",
    "import math\n",
    "import warnings"
   ]
  },
  {
   "cell_type": "code",
   "execution_count": 26,
   "metadata": {},
   "outputs": [
    {
     "data": {
      "text/html": [
       "<div>\n",
       "<style scoped>\n",
       "    .dataframe tbody tr th:only-of-type {\n",
       "        vertical-align: middle;\n",
       "    }\n",
       "\n",
       "    .dataframe tbody tr th {\n",
       "        vertical-align: top;\n",
       "    }\n",
       "\n",
       "    .dataframe thead th {\n",
       "        text-align: right;\n",
       "    }\n",
       "</style>\n",
       "<table border=\"1\" class=\"dataframe\">\n",
       "  <thead>\n",
       "    <tr style=\"text-align: right;\">\n",
       "      <th></th>\n",
       "      <th>tavg</th>\n",
       "      <th>tmin</th>\n",
       "      <th>tmax</th>\n",
       "      <th>prcp</th>\n",
       "      <th>snow</th>\n",
       "      <th>wdir</th>\n",
       "      <th>wspd</th>\n",
       "      <th>pres</th>\n",
       "      <th>year</th>\n",
       "    </tr>\n",
       "  </thead>\n",
       "  <tbody>\n",
       "    <tr>\n",
       "      <th>0</th>\n",
       "      <td>NaN</td>\n",
       "      <td>-11.7</td>\n",
       "      <td>32.2</td>\n",
       "      <td>925.4</td>\n",
       "      <td>0.2</td>\n",
       "      <td>NaN</td>\n",
       "      <td>NaN</td>\n",
       "      <td>NaN</td>\n",
       "      <td>1961</td>\n",
       "    </tr>\n",
       "    <tr>\n",
       "      <th>1</th>\n",
       "      <td>NaN</td>\n",
       "      <td>-11.5</td>\n",
       "      <td>27.0</td>\n",
       "      <td>749.9</td>\n",
       "      <td>2.2</td>\n",
       "      <td>NaN</td>\n",
       "      <td>NaN</td>\n",
       "      <td>NaN</td>\n",
       "      <td>1962</td>\n",
       "    </tr>\n",
       "    <tr>\n",
       "      <th>2</th>\n",
       "      <td>NaN</td>\n",
       "      <td>-18.2</td>\n",
       "      <td>28.7</td>\n",
       "      <td>776.7</td>\n",
       "      <td>14.0</td>\n",
       "      <td>NaN</td>\n",
       "      <td>NaN</td>\n",
       "      <td>NaN</td>\n",
       "      <td>1963</td>\n",
       "    </tr>\n",
       "    <tr>\n",
       "      <th>3</th>\n",
       "      <td>NaN</td>\n",
       "      <td>-12.7</td>\n",
       "      <td>31.7</td>\n",
       "      <td>760.1</td>\n",
       "      <td>1.3</td>\n",
       "      <td>NaN</td>\n",
       "      <td>NaN</td>\n",
       "      <td>NaN</td>\n",
       "      <td>1964</td>\n",
       "    </tr>\n",
       "    <tr>\n",
       "      <th>4</th>\n",
       "      <td>NaN</td>\n",
       "      <td>-10.0</td>\n",
       "      <td>27.6</td>\n",
       "      <td>1151.9</td>\n",
       "      <td>0.4</td>\n",
       "      <td>NaN</td>\n",
       "      <td>NaN</td>\n",
       "      <td>NaN</td>\n",
       "      <td>1965</td>\n",
       "    </tr>\n",
       "  </tbody>\n",
       "</table>\n",
       "</div>"
      ],
      "text/plain": [
       "   tavg  tmin  tmax    prcp  snow  wdir  wspd  pres  year\n",
       "0   NaN -11.7  32.2   925.4   0.2   NaN   NaN   NaN  1961\n",
       "1   NaN -11.5  27.0   749.9   2.2   NaN   NaN   NaN  1962\n",
       "2   NaN -18.2  28.7   776.7  14.0   NaN   NaN   NaN  1963\n",
       "3   NaN -12.7  31.7   760.1   1.3   NaN   NaN   NaN  1964\n",
       "4   NaN -10.0  27.6  1151.9   0.4   NaN   NaN   NaN  1965"
      ]
     },
     "execution_count": 26,
     "metadata": {},
     "output_type": "execute_result"
    }
   ],
   "source": [
    "# Climate Data API from The World Bank (unused)\n",
    "#import precipitation data \n",
    "# pr = 'http://climatedataapi.worldbank.org/climateweb/rest/v1/country/cru/pr/year/ITA.csv'\n",
    "# Precipitation = pd.read_csv(pr)\n",
    "\n",
    "#import temperature data\n",
    "# temp = 'http://climatedataapi.worldbank.org/climateweb/rest/v1/country/cru/tas/year/ITA.csv'\n",
    "# Temperature = pd.read_csv(temp)\n",
    "\n",
    "# Meteostat Python library\n",
    "# Set time period\n",
    "start = datetime(1961, 1, 1)\n",
    "end = datetime(2014, 12, 31)\n",
    "\n",
    "# Get daily data for weather station De Bilt\n",
    "data = Daily('06260', start, end)\n",
    "data = data.normalize()\n",
    "\n",
    "# Aggregate to yearly data\n",
    "data = data.aggregate('1Y')\n",
    "data = data.fetch()\n",
    "\n",
    "# reset index\n",
    "data.reset_index(level=0, inplace=True)\n",
    "\n",
    "# extract the year from datetime column\n",
    "data['year'] = pd.DatetimeIndex(data['time']).year\n",
    "\n",
    "# drop unnused and empty columns\n",
    "data = data.drop(columns=['time', 'wpgt', 'tsun'])\n",
    "\n",
    "# replace unealistic wind direction values with nan\n",
    "data['wdir'].replace(0, np.nan, inplace=True)\n",
    "\n",
    "data.head()"
   ]
  },
  {
   "cell_type": "markdown",
   "metadata": {},
   "source": [
    "### Data set 1.1: vegetable yied data in the Netherlands \n",
    "\n",
    "The data on crops is downloaded from the [Food and Agriculture Organization of the United Nations (FAO)](http://www.fao.org/faostat/en/#data/QC). This dataset contains data on many different types of crops in countries all over Europe. Therefore, the data is subsetted to only display the yield for primary vegetables in the Netherlands. Afterwards, unneeded columns are removed, year columns are turned into column values, and the crop data is merged with the weather data to form the final dataframe used to model the algorithm."
   ]
  },
  {
   "cell_type": "code",
   "execution_count": 27,
   "metadata": {},
   "outputs": [
    {
     "data": {
      "text/html": [
       "<div>\n",
       "<style scoped>\n",
       "    .dataframe tbody tr th:only-of-type {\n",
       "        vertical-align: middle;\n",
       "    }\n",
       "\n",
       "    .dataframe tbody tr th {\n",
       "        vertical-align: top;\n",
       "    }\n",
       "\n",
       "    .dataframe thead th {\n",
       "        text-align: right;\n",
       "    }\n",
       "</style>\n",
       "<table border=\"1\" class=\"dataframe\">\n",
       "  <thead>\n",
       "    <tr style=\"text-align: right;\">\n",
       "      <th></th>\n",
       "      <th>tavg</th>\n",
       "      <th>tmin</th>\n",
       "      <th>tmax</th>\n",
       "      <th>prcp</th>\n",
       "      <th>snow</th>\n",
       "      <th>wdir</th>\n",
       "      <th>wspd</th>\n",
       "      <th>pres</th>\n",
       "      <th>year</th>\n",
       "      <th>Area</th>\n",
       "      <th>Item</th>\n",
       "      <th>Element</th>\n",
       "      <th>Unit</th>\n",
       "      <th>Value</th>\n",
       "    </tr>\n",
       "  </thead>\n",
       "  <tbody>\n",
       "    <tr>\n",
       "      <th>0</th>\n",
       "      <td>9.7</td>\n",
       "      <td>-5.8</td>\n",
       "      <td>26.5</td>\n",
       "      <td>992.7</td>\n",
       "      <td>0.0</td>\n",
       "      <td>231.6</td>\n",
       "      <td>12.5</td>\n",
       "      <td>1013.9</td>\n",
       "      <td>1974</td>\n",
       "      <td>Netherlands</td>\n",
       "      <td>Vegetables Primary</td>\n",
       "      <td>Yield</td>\n",
       "      <td>hg/ha</td>\n",
       "      <td>308170.0</td>\n",
       "    </tr>\n",
       "    <tr>\n",
       "      <th>1</th>\n",
       "      <td>9.8</td>\n",
       "      <td>-7.8</td>\n",
       "      <td>32.9</td>\n",
       "      <td>635.0</td>\n",
       "      <td>0.1</td>\n",
       "      <td>214.8</td>\n",
       "      <td>12.1</td>\n",
       "      <td>1018.3</td>\n",
       "      <td>1975</td>\n",
       "      <td>Netherlands</td>\n",
       "      <td>Vegetables Primary</td>\n",
       "      <td>Yield</td>\n",
       "      <td>hg/ha</td>\n",
       "      <td>316115.0</td>\n",
       "    </tr>\n",
       "    <tr>\n",
       "      <th>2</th>\n",
       "      <td>10.0</td>\n",
       "      <td>-10.6</td>\n",
       "      <td>34.9</td>\n",
       "      <td>536.3</td>\n",
       "      <td>3.0</td>\n",
       "      <td>120.2</td>\n",
       "      <td>12.3</td>\n",
       "      <td>1017.0</td>\n",
       "      <td>1976</td>\n",
       "      <td>Netherlands</td>\n",
       "      <td>Vegetables Primary</td>\n",
       "      <td>Yield</td>\n",
       "      <td>hg/ha</td>\n",
       "      <td>340592.0</td>\n",
       "    </tr>\n",
       "    <tr>\n",
       "      <th>3</th>\n",
       "      <td>9.9</td>\n",
       "      <td>-5.3</td>\n",
       "      <td>30.8</td>\n",
       "      <td>813.0</td>\n",
       "      <td>0.2</td>\n",
       "      <td>223.4</td>\n",
       "      <td>11.7</td>\n",
       "      <td>1014.8</td>\n",
       "      <td>1977</td>\n",
       "      <td>Netherlands</td>\n",
       "      <td>Vegetables Primary</td>\n",
       "      <td>Yield</td>\n",
       "      <td>hg/ha</td>\n",
       "      <td>352223.0</td>\n",
       "    </tr>\n",
       "    <tr>\n",
       "      <th>4</th>\n",
       "      <td>9.1</td>\n",
       "      <td>-13.2</td>\n",
       "      <td>32.1</td>\n",
       "      <td>643.6</td>\n",
       "      <td>0.4</td>\n",
       "      <td>227.4</td>\n",
       "      <td>12.7</td>\n",
       "      <td>1013.7</td>\n",
       "      <td>1978</td>\n",
       "      <td>Netherlands</td>\n",
       "      <td>Vegetables Primary</td>\n",
       "      <td>Yield</td>\n",
       "      <td>hg/ha</td>\n",
       "      <td>357773.0</td>\n",
       "    </tr>\n",
       "  </tbody>\n",
       "</table>\n",
       "</div>"
      ],
      "text/plain": [
       "   tavg  tmin  tmax   prcp  snow   wdir  wspd    pres  year         Area  \\\n",
       "0   9.7  -5.8  26.5  992.7   0.0  231.6  12.5  1013.9  1974  Netherlands   \n",
       "1   9.8  -7.8  32.9  635.0   0.1  214.8  12.1  1018.3  1975  Netherlands   \n",
       "2  10.0 -10.6  34.9  536.3   3.0  120.2  12.3  1017.0  1976  Netherlands   \n",
       "3   9.9  -5.3  30.8  813.0   0.2  223.4  11.7  1014.8  1977  Netherlands   \n",
       "4   9.1 -13.2  32.1  643.6   0.4  227.4  12.7  1013.7  1978  Netherlands   \n",
       "\n",
       "                 Item Element   Unit     Value  \n",
       "0  Vegetables Primary   Yield  hg/ha  308170.0  \n",
       "1  Vegetables Primary   Yield  hg/ha  316115.0  \n",
       "2  Vegetables Primary   Yield  hg/ha  340592.0  \n",
       "3  Vegetables Primary   Yield  hg/ha  352223.0  \n",
       "4  Vegetables Primary   Yield  hg/ha  357773.0  "
      ]
     },
     "execution_count": 27,
     "metadata": {},
     "output_type": "execute_result"
    }
   ],
   "source": [
    "#import crop production data\n",
    "crops_df = pd.read_csv('Production_Crops_E_Europe.csv')\n",
    "\n",
    "#subset production data\n",
    "crops_df = crops_df.loc[(crops_df['Area'] == 'Netherlands' ) & (crops_df['Item'] == 'Vegetables Primary')\n",
    "                      & (crops_df['Element'] == 'Yield')]\n",
    "\n",
    "#remove unneeded columns\n",
    "crops_df = crops_df[crops_df.columns.drop(list(crops_df.filter(regex='F')))]\n",
    "crops_df = crops_df.drop(columns=['Area Code', 'Item Code', 'Element Code'])\n",
    "\n",
    "#remove Y from year columns\n",
    "crops_df.columns = crops_df.columns.str.replace('Y','')\n",
    "\n",
    "#turn year columns into values of one year column\n",
    "crops_df = crops_df.melt(id_vars=[\"Area\", 'Item', 'Element', \"Unit\"], \n",
    "        var_name=\"Date\", \n",
    "        value_name=\"Value\")\n",
    "\n",
    "#convert years to integers\n",
    "crops_df['Date']= crops_df['Date'].astype(int)\n",
    "\n",
    "#rename columns\n",
    "crops_df = crops_df.rename(columns={'Date':'year'})\n",
    "\n",
    "#subset to match timeframes for all dataframes\n",
    "crops_df = crops_df[crops_df['year'].between(1974, 2014)]\n",
    "\n",
    "#merge the dataframes\n",
    "df = reduce(lambda left,right: pd.merge(left,right,on='year'), [data, crops_df])\n",
    "\n",
    "df.head()"
   ]
  },
  {
   "cell_type": "markdown",
   "metadata": {},
   "source": [
    "### Data set 2.0: weather data in Nebraska\n",
    "The second option is predicting the corn yield in Nebraska, USA. Although the data from this option does not need to require extensive data cleaning steps, it is prefered over the first option since the weather data in Nebraska is much more complete. Therefore, the predictive model performed better.\n",
    "\n",
    "The weather data from Nebraska is collected from the USA National Centers for Environmental Information (NCEI). The data from the weather station in Nebraska with the most complete data is collected from the NCEI website. The timespan of the resulting dataset is from 1981 till 2021. Unfortunately, the data is incomplete and has to be filtered to work for the predictive model. Therefore, the predictive model is run multiple times using different weather variables. Subsequently, the variables that show the best results (r^2 and rmse) are chosen as the final variables. You can look up what the variables mean by visiting the [NCEI webpage of the specific weather station used](https://www.ncdc.noaa.gov/cdo-web/datasets/GSOY/stations/GHCND:USC00252065/detail).\n",
    "\n",
    "Due to advancements in farming technology, crop yields steadily increase over time. Therefore, the year has been taking into account as one of the independent variables."
   ]
  },
  {
   "cell_type": "code",
   "execution_count": 28,
   "metadata": {},
   "outputs": [
    {
     "data": {
      "text/html": [
       "<div>\n",
       "<style scoped>\n",
       "    .dataframe tbody tr th:only-of-type {\n",
       "        vertical-align: middle;\n",
       "    }\n",
       "\n",
       "    .dataframe tbody tr th {\n",
       "        vertical-align: top;\n",
       "    }\n",
       "\n",
       "    .dataframe thead th {\n",
       "        text-align: right;\n",
       "    }\n",
       "</style>\n",
       "<table border=\"1\" class=\"dataframe\">\n",
       "  <thead>\n",
       "    <tr style=\"text-align: right;\">\n",
       "      <th></th>\n",
       "      <th>Year</th>\n",
       "      <th>TAVG</th>\n",
       "      <th>TMAX</th>\n",
       "      <th>TMIN</th>\n",
       "      <th>EMNT</th>\n",
       "      <th>EMXT</th>\n",
       "      <th>DX90</th>\n",
       "      <th>DT32</th>\n",
       "      <th>FZF5</th>\n",
       "      <th>FZF0</th>\n",
       "      <th>PRCP</th>\n",
       "      <th>DSNW</th>\n",
       "      <th>EMSN</th>\n",
       "    </tr>\n",
       "  </thead>\n",
       "  <tbody>\n",
       "    <tr>\n",
       "      <th>24</th>\n",
       "      <td>1916</td>\n",
       "      <td>9.6</td>\n",
       "      <td>18.9</td>\n",
       "      <td>0.4</td>\n",
       "      <td>-28.3</td>\n",
       "      <td>40.0</td>\n",
       "      <td>67.0</td>\n",
       "      <td>178.0</td>\n",
       "      <td>-2.2</td>\n",
       "      <td>0.0</td>\n",
       "      <td>486.4</td>\n",
       "      <td>12.0</td>\n",
       "      <td>76.0</td>\n",
       "    </tr>\n",
       "    <tr>\n",
       "      <th>25</th>\n",
       "      <td>1917</td>\n",
       "      <td>9.6</td>\n",
       "      <td>19.0</td>\n",
       "      <td>0.2</td>\n",
       "      <td>-26.1</td>\n",
       "      <td>42.2</td>\n",
       "      <td>61.0</td>\n",
       "      <td>185.0</td>\n",
       "      <td>0.0</td>\n",
       "      <td>-5.6</td>\n",
       "      <td>377.5</td>\n",
       "      <td>6.0</td>\n",
       "      <td>76.0</td>\n",
       "    </tr>\n",
       "    <tr>\n",
       "      <th>26</th>\n",
       "      <td>1918</td>\n",
       "      <td>10.6</td>\n",
       "      <td>19.3</td>\n",
       "      <td>1.9</td>\n",
       "      <td>-34.4</td>\n",
       "      <td>41.7</td>\n",
       "      <td>64.0</td>\n",
       "      <td>162.0</td>\n",
       "      <td>-1.7</td>\n",
       "      <td>-4.4</td>\n",
       "      <td>505.6</td>\n",
       "      <td>14.0</td>\n",
       "      <td>152.0</td>\n",
       "    </tr>\n",
       "    <tr>\n",
       "      <th>27</th>\n",
       "      <td>1919</td>\n",
       "      <td>9.8</td>\n",
       "      <td>18.1</td>\n",
       "      <td>1.6</td>\n",
       "      <td>-33.9</td>\n",
       "      <td>40.6</td>\n",
       "      <td>72.0</td>\n",
       "      <td>174.0</td>\n",
       "      <td>-1.1</td>\n",
       "      <td>0.0</td>\n",
       "      <td>503.1</td>\n",
       "      <td>17.0</td>\n",
       "      <td>254.0</td>\n",
       "    </tr>\n",
       "    <tr>\n",
       "      <th>28</th>\n",
       "      <td>1920</td>\n",
       "      <td>9.9</td>\n",
       "      <td>18.6</td>\n",
       "      <td>1.2</td>\n",
       "      <td>-31.1</td>\n",
       "      <td>38.3</td>\n",
       "      <td>68.0</td>\n",
       "      <td>183.0</td>\n",
       "      <td>-1.1</td>\n",
       "      <td>-1.7</td>\n",
       "      <td>509.1</td>\n",
       "      <td>10.0</td>\n",
       "      <td>152.0</td>\n",
       "    </tr>\n",
       "  </tbody>\n",
       "</table>\n",
       "</div>"
      ],
      "text/plain": [
       "    Year  TAVG  TMAX  TMIN  EMNT  EMXT  DX90   DT32  FZF5  FZF0   PRCP  DSNW  \\\n",
       "24  1916   9.6  18.9   0.4 -28.3  40.0  67.0  178.0  -2.2   0.0  486.4  12.0   \n",
       "25  1917   9.6  19.0   0.2 -26.1  42.2  61.0  185.0   0.0  -5.6  377.5   6.0   \n",
       "26  1918  10.6  19.3   1.9 -34.4  41.7  64.0  162.0  -1.7  -4.4  505.6  14.0   \n",
       "27  1919   9.8  18.1   1.6 -33.9  40.6  72.0  174.0  -1.1   0.0  503.1  17.0   \n",
       "28  1920   9.9  18.6   1.2 -31.1  38.3  68.0  183.0  -1.1  -1.7  509.1  10.0   \n",
       "\n",
       "     EMSN  \n",
       "24   76.0  \n",
       "25   76.0  \n",
       "26  152.0  \n",
       "27  254.0  \n",
       "28  152.0  "
      ]
     },
     "execution_count": 28,
     "metadata": {},
     "output_type": "execute_result"
    }
   ],
   "source": [
    "# import Nebraska weather data\n",
    "weather = pd.read_csv('NE_weather.csv') #https://www.ncdc.noaa.gov/cdo-web/datasets/GSOY/stations/GHCND:USC00252065/detail\n",
    "\n",
    "# rename date column\n",
    "weather = weather.rename(columns={'DATE':'Year'})\n",
    "\n",
    "# filter for the most suitable weather variables\n",
    "weather = weather[['Year', \n",
    "                   'TAVG', 'TMAX', 'TMIN', 'EMNT', 'EMXT', # Air temperature\n",
    "                   'DX90', 'DT32',# Computed\n",
    "                   'FZF5','FZF0', # Miscellany\n",
    "                   'PRCP', 'DSNW', 'EMSN']] # Precipitation\n",
    "\n",
    "# subset to match timeframes for all dataframes\n",
    "weather = weather[weather['Year'].between(1916, 2020)]\n",
    "\n",
    "weather.head()"
   ]
  },
  {
   "cell_type": "markdown",
   "metadata": {},
   "source": [
    "### Data set 2.1: corn yield in Nebraska\n",
    "The data on corn yield in Nebraska is downloaded from the [U.S. Department of Agriculture (USDA)](https://www.nass.usda.gov/). This data shows the yield of corn measured in Bushels per Acre. [One bushel of corn weighs about 56 pounds or 25 kilograms](https://www.nefbfoundation.org/images/FOUndation/Educators/Enriching-Activities/Corn-Calculations.pdf). After importing the crop data, both the weather and crop dataframes are merged to form the final dataframe used for computing the predictive model. This dataframe will be used in the upcoming chapters of this notebook."
   ]
  },
  {
   "cell_type": "code",
   "execution_count": 29,
   "metadata": {},
   "outputs": [
    {
     "data": {
      "text/html": [
       "<div>\n",
       "<style scoped>\n",
       "    .dataframe tbody tr th:only-of-type {\n",
       "        vertical-align: middle;\n",
       "    }\n",
       "\n",
       "    .dataframe tbody tr th {\n",
       "        vertical-align: top;\n",
       "    }\n",
       "\n",
       "    .dataframe thead th {\n",
       "        text-align: right;\n",
       "    }\n",
       "</style>\n",
       "<table border=\"1\" class=\"dataframe\">\n",
       "  <thead>\n",
       "    <tr style=\"text-align: right;\">\n",
       "      <th></th>\n",
       "      <th>Year</th>\n",
       "      <th>Value</th>\n",
       "      <th>TAVG</th>\n",
       "      <th>TMAX</th>\n",
       "      <th>TMIN</th>\n",
       "      <th>EMNT</th>\n",
       "      <th>EMXT</th>\n",
       "      <th>DX90</th>\n",
       "      <th>DT32</th>\n",
       "      <th>FZF5</th>\n",
       "      <th>FZF0</th>\n",
       "      <th>PRCP</th>\n",
       "      <th>DSNW</th>\n",
       "      <th>EMSN</th>\n",
       "    </tr>\n",
       "  </thead>\n",
       "  <tbody>\n",
       "    <tr>\n",
       "      <th>0</th>\n",
       "      <td>2020</td>\n",
       "      <td>181.0</td>\n",
       "      <td>11.0</td>\n",
       "      <td>19.7</td>\n",
       "      <td>2.2</td>\n",
       "      <td>-19.4</td>\n",
       "      <td>39.4</td>\n",
       "      <td>77.0</td>\n",
       "      <td>170.0</td>\n",
       "      <td>0.0</td>\n",
       "      <td>-0.6</td>\n",
       "      <td>412.7</td>\n",
       "      <td>7.0</td>\n",
       "      <td>127.0</td>\n",
       "    </tr>\n",
       "    <tr>\n",
       "      <th>1</th>\n",
       "      <td>2019</td>\n",
       "      <td>182.0</td>\n",
       "      <td>9.8</td>\n",
       "      <td>17.6</td>\n",
       "      <td>2.0</td>\n",
       "      <td>-23.3</td>\n",
       "      <td>40.6</td>\n",
       "      <td>55.0</td>\n",
       "      <td>181.0</td>\n",
       "      <td>0.0</td>\n",
       "      <td>-0.6</td>\n",
       "      <td>632.9</td>\n",
       "      <td>11.0</td>\n",
       "      <td>178.0</td>\n",
       "    </tr>\n",
       "    <tr>\n",
       "      <th>2</th>\n",
       "      <td>2018</td>\n",
       "      <td>192.0</td>\n",
       "      <td>10.0</td>\n",
       "      <td>17.8</td>\n",
       "      <td>2.3</td>\n",
       "      <td>-22.2</td>\n",
       "      <td>40.6</td>\n",
       "      <td>61.0</td>\n",
       "      <td>177.0</td>\n",
       "      <td>0.0</td>\n",
       "      <td>-2.8</td>\n",
       "      <td>723.6</td>\n",
       "      <td>17.0</td>\n",
       "      <td>254.0</td>\n",
       "    </tr>\n",
       "    <tr>\n",
       "      <th>4</th>\n",
       "      <td>2016</td>\n",
       "      <td>178.0</td>\n",
       "      <td>12.0</td>\n",
       "      <td>20.4</td>\n",
       "      <td>3.6</td>\n",
       "      <td>-26.1</td>\n",
       "      <td>40.6</td>\n",
       "      <td>59.0</td>\n",
       "      <td>147.0</td>\n",
       "      <td>-0.6</td>\n",
       "      <td>-0.6</td>\n",
       "      <td>553.0</td>\n",
       "      <td>5.0</td>\n",
       "      <td>203.0</td>\n",
       "    </tr>\n",
       "    <tr>\n",
       "      <th>5</th>\n",
       "      <td>2015</td>\n",
       "      <td>185.0</td>\n",
       "      <td>11.7</td>\n",
       "      <td>19.8</td>\n",
       "      <td>3.6</td>\n",
       "      <td>-26.1</td>\n",
       "      <td>40.0</td>\n",
       "      <td>62.0</td>\n",
       "      <td>156.0</td>\n",
       "      <td>-1.7</td>\n",
       "      <td>0.0</td>\n",
       "      <td>638.2</td>\n",
       "      <td>9.0</td>\n",
       "      <td>127.0</td>\n",
       "    </tr>\n",
       "  </tbody>\n",
       "</table>\n",
       "</div>"
      ],
      "text/plain": [
       "   Year  Value  TAVG  TMAX  TMIN  EMNT  EMXT  DX90   DT32  FZF5  FZF0   PRCP  \\\n",
       "0  2020  181.0  11.0  19.7   2.2 -19.4  39.4  77.0  170.0   0.0  -0.6  412.7   \n",
       "1  2019  182.0   9.8  17.6   2.0 -23.3  40.6  55.0  181.0   0.0  -0.6  632.9   \n",
       "2  2018  192.0  10.0  17.8   2.3 -22.2  40.6  61.0  177.0   0.0  -2.8  723.6   \n",
       "4  2016  178.0  12.0  20.4   3.6 -26.1  40.6  59.0  147.0  -0.6  -0.6  553.0   \n",
       "5  2015  185.0  11.7  19.8   3.6 -26.1  40.0  62.0  156.0  -1.7   0.0  638.2   \n",
       "\n",
       "   DSNW   EMSN  \n",
       "0   7.0  127.0  \n",
       "1  11.0  178.0  \n",
       "2  17.0  254.0  \n",
       "4   5.0  203.0  \n",
       "5   9.0  127.0  "
      ]
     },
     "execution_count": 29,
     "metadata": {},
     "output_type": "execute_result"
    }
   ],
   "source": [
    "# import corn yield data\n",
    "crops = pd.read_csv('NE_Corn.csv') #https://quickstats.nass.usda.gov/results/9C5879F6-ADFA-343F-A288-C2C6693E8C77\n",
    "\n",
    "# filter out unused columns\n",
    "crops = crops[['Year', 'Value']]\n",
    "\n",
    "# subset to match timeframes for all dataframes\n",
    "crops = crops[crops['Year'].between(1916, 2020)]\n",
    "\n",
    "#merge the weather and crop dataframes\n",
    "df_final = reduce(lambda left,right: pd.merge(left,right,on='Year'), [crops, weather])\n",
    "\n",
    "# drop rows with Nan values\n",
    "df_final = df_final.dropna()\n",
    "\n",
    "df_final.head()"
   ]
  },
  {
   "cell_type": "markdown",
   "metadata": {},
   "source": [
    "### Descriptive analysis\n",
    "\n",
    "To find relevant patterns in our dataset, we must analyze the data through exploratory data analysis. First, we will access basic statistical details like percentile, mean, and standard deviation using the pandas .describe() method."
   ]
  },
  {
   "cell_type": "code",
   "execution_count": 30,
   "metadata": {},
   "outputs": [
    {
     "data": {
      "text/html": [
       "<div>\n",
       "<style scoped>\n",
       "    .dataframe tbody tr th:only-of-type {\n",
       "        vertical-align: middle;\n",
       "    }\n",
       "\n",
       "    .dataframe tbody tr th {\n",
       "        vertical-align: top;\n",
       "    }\n",
       "\n",
       "    .dataframe thead th {\n",
       "        text-align: right;\n",
       "    }\n",
       "</style>\n",
       "<table border=\"1\" class=\"dataframe\">\n",
       "  <thead>\n",
       "    <tr style=\"text-align: right;\">\n",
       "      <th></th>\n",
       "      <th>Year</th>\n",
       "      <th>Value</th>\n",
       "      <th>TAVG</th>\n",
       "      <th>TMAX</th>\n",
       "      <th>TMIN</th>\n",
       "      <th>EMNT</th>\n",
       "      <th>EMXT</th>\n",
       "      <th>DX90</th>\n",
       "      <th>DT32</th>\n",
       "      <th>FZF5</th>\n",
       "      <th>FZF0</th>\n",
       "      <th>PRCP</th>\n",
       "      <th>DSNW</th>\n",
       "      <th>EMSN</th>\n",
       "    </tr>\n",
       "  </thead>\n",
       "  <tbody>\n",
       "    <tr>\n",
       "      <th>count</th>\n",
       "      <td>90.000000</td>\n",
       "      <td>90.000000</td>\n",
       "      <td>90.000000</td>\n",
       "      <td>90.000000</td>\n",
       "      <td>90.000000</td>\n",
       "      <td>90.000000</td>\n",
       "      <td>90.000000</td>\n",
       "      <td>90.000000</td>\n",
       "      <td>90.000000</td>\n",
       "      <td>90.000000</td>\n",
       "      <td>90.000000</td>\n",
       "      <td>90.000000</td>\n",
       "      <td>90.000000</td>\n",
       "      <td>90.00000</td>\n",
       "    </tr>\n",
       "    <tr>\n",
       "      <th>mean</th>\n",
       "      <td>1967.044444</td>\n",
       "      <td>80.031111</td>\n",
       "      <td>10.624444</td>\n",
       "      <td>18.903333</td>\n",
       "      <td>2.337778</td>\n",
       "      <td>-25.846667</td>\n",
       "      <td>40.757778</td>\n",
       "      <td>60.777778</td>\n",
       "      <td>167.700000</td>\n",
       "      <td>-1.063333</td>\n",
       "      <td>-1.265556</td>\n",
       "      <td>525.238889</td>\n",
       "      <td>9.855556</td>\n",
       "      <td>163.70000</td>\n",
       "    </tr>\n",
       "    <tr>\n",
       "      <th>std</th>\n",
       "      <td>30.601796</td>\n",
       "      <td>57.360092</td>\n",
       "      <td>0.885249</td>\n",
       "      <td>1.081972</td>\n",
       "      <td>0.904741</td>\n",
       "      <td>4.028583</td>\n",
       "      <td>1.814980</td>\n",
       "      <td>14.378337</td>\n",
       "      <td>9.533442</td>\n",
       "      <td>1.282330</td>\n",
       "      <td>1.597341</td>\n",
       "      <td>110.301205</td>\n",
       "      <td>3.890528</td>\n",
       "      <td>66.27326</td>\n",
       "    </tr>\n",
       "    <tr>\n",
       "      <th>min</th>\n",
       "      <td>1916.000000</td>\n",
       "      <td>5.500000</td>\n",
       "      <td>8.600000</td>\n",
       "      <td>15.700000</td>\n",
       "      <td>-0.100000</td>\n",
       "      <td>-36.700000</td>\n",
       "      <td>36.100000</td>\n",
       "      <td>24.000000</td>\n",
       "      <td>147.000000</td>\n",
       "      <td>-5.600000</td>\n",
       "      <td>-9.400000</td>\n",
       "      <td>286.000000</td>\n",
       "      <td>2.000000</td>\n",
       "      <td>51.00000</td>\n",
       "    </tr>\n",
       "    <tr>\n",
       "      <th>25%</th>\n",
       "      <td>1941.250000</td>\n",
       "      <td>27.000000</td>\n",
       "      <td>9.925000</td>\n",
       "      <td>18.125000</td>\n",
       "      <td>1.825000</td>\n",
       "      <td>-28.900000</td>\n",
       "      <td>40.000000</td>\n",
       "      <td>52.000000</td>\n",
       "      <td>160.000000</td>\n",
       "      <td>-1.700000</td>\n",
       "      <td>-2.075000</td>\n",
       "      <td>462.700000</td>\n",
       "      <td>7.000000</td>\n",
       "      <td>123.25000</td>\n",
       "    </tr>\n",
       "    <tr>\n",
       "      <th>50%</th>\n",
       "      <td>1963.500000</td>\n",
       "      <td>58.750000</td>\n",
       "      <td>10.750000</td>\n",
       "      <td>18.900000</td>\n",
       "      <td>2.400000</td>\n",
       "      <td>-25.600000</td>\n",
       "      <td>40.600000</td>\n",
       "      <td>61.000000</td>\n",
       "      <td>168.000000</td>\n",
       "      <td>-0.600000</td>\n",
       "      <td>-0.600000</td>\n",
       "      <td>530.800000</td>\n",
       "      <td>9.000000</td>\n",
       "      <td>152.00000</td>\n",
       "    </tr>\n",
       "    <tr>\n",
       "      <th>75%</th>\n",
       "      <td>1993.750000</td>\n",
       "      <td>128.000000</td>\n",
       "      <td>11.000000</td>\n",
       "      <td>19.400000</td>\n",
       "      <td>2.800000</td>\n",
       "      <td>-23.300000</td>\n",
       "      <td>41.700000</td>\n",
       "      <td>69.750000</td>\n",
       "      <td>174.000000</td>\n",
       "      <td>0.000000</td>\n",
       "      <td>0.000000</td>\n",
       "      <td>605.200000</td>\n",
       "      <td>12.000000</td>\n",
       "      <td>203.00000</td>\n",
       "    </tr>\n",
       "    <tr>\n",
       "      <th>max</th>\n",
       "      <td>2020.000000</td>\n",
       "      <td>192.000000</td>\n",
       "      <td>13.300000</td>\n",
       "      <td>21.600000</td>\n",
       "      <td>4.900000</td>\n",
       "      <td>-15.600000</td>\n",
       "      <td>45.000000</td>\n",
       "      <td>92.000000</td>\n",
       "      <td>186.000000</td>\n",
       "      <td>0.000000</td>\n",
       "      <td>0.000000</td>\n",
       "      <td>755.900000</td>\n",
       "      <td>21.000000</td>\n",
       "      <td>356.00000</td>\n",
       "    </tr>\n",
       "  </tbody>\n",
       "</table>\n",
       "</div>"
      ],
      "text/plain": [
       "              Year       Value       TAVG       TMAX       TMIN       EMNT  \\\n",
       "count    90.000000   90.000000  90.000000  90.000000  90.000000  90.000000   \n",
       "mean   1967.044444   80.031111  10.624444  18.903333   2.337778 -25.846667   \n",
       "std      30.601796   57.360092   0.885249   1.081972   0.904741   4.028583   \n",
       "min    1916.000000    5.500000   8.600000  15.700000  -0.100000 -36.700000   \n",
       "25%    1941.250000   27.000000   9.925000  18.125000   1.825000 -28.900000   \n",
       "50%    1963.500000   58.750000  10.750000  18.900000   2.400000 -25.600000   \n",
       "75%    1993.750000  128.000000  11.000000  19.400000   2.800000 -23.300000   \n",
       "max    2020.000000  192.000000  13.300000  21.600000   4.900000 -15.600000   \n",
       "\n",
       "            EMXT       DX90        DT32       FZF5       FZF0        PRCP  \\\n",
       "count  90.000000  90.000000   90.000000  90.000000  90.000000   90.000000   \n",
       "mean   40.757778  60.777778  167.700000  -1.063333  -1.265556  525.238889   \n",
       "std     1.814980  14.378337    9.533442   1.282330   1.597341  110.301205   \n",
       "min    36.100000  24.000000  147.000000  -5.600000  -9.400000  286.000000   \n",
       "25%    40.000000  52.000000  160.000000  -1.700000  -2.075000  462.700000   \n",
       "50%    40.600000  61.000000  168.000000  -0.600000  -0.600000  530.800000   \n",
       "75%    41.700000  69.750000  174.000000   0.000000   0.000000  605.200000   \n",
       "max    45.000000  92.000000  186.000000   0.000000   0.000000  755.900000   \n",
       "\n",
       "            DSNW       EMSN  \n",
       "count  90.000000   90.00000  \n",
       "mean    9.855556  163.70000  \n",
       "std     3.890528   66.27326  \n",
       "min     2.000000   51.00000  \n",
       "25%     7.000000  123.25000  \n",
       "50%     9.000000  152.00000  \n",
       "75%    12.000000  203.00000  \n",
       "max    21.000000  356.00000  "
      ]
     },
     "execution_count": 30,
     "metadata": {},
     "output_type": "execute_result"
    }
   ],
   "source": [
    "# show statistics\n",
    "df_final.describe()"
   ]
  },
  {
   "cell_type": "markdown",
   "metadata": {},
   "source": [
    "When looking at the table above, we can gather some interesting insights about the weather in Nebraska between 1916 and 2020. For example, the longest number of days with a maximum temperature above 32.2°C in one year was 92 days. The maximum extreme temperature reached was 45.0°C, and the lowest -15.6°C for the whole period.\n",
    "\n",
    "Next, we will explore the relationships between all variables by plotting a correlation matrix, a heatmap and a pair plot. First, the correlation matrix and heatmap are plotted."
   ]
  },
  {
   "cell_type": "code",
   "execution_count": 31,
   "metadata": {},
   "outputs": [
    {
     "data": {
      "text/html": [
       "<div>\n",
       "<style scoped>\n",
       "    .dataframe tbody tr th:only-of-type {\n",
       "        vertical-align: middle;\n",
       "    }\n",
       "\n",
       "    .dataframe tbody tr th {\n",
       "        vertical-align: top;\n",
       "    }\n",
       "\n",
       "    .dataframe thead th {\n",
       "        text-align: right;\n",
       "    }\n",
       "</style>\n",
       "<table border=\"1\" class=\"dataframe\">\n",
       "  <thead>\n",
       "    <tr style=\"text-align: right;\">\n",
       "      <th></th>\n",
       "      <th>Year</th>\n",
       "      <th>Value</th>\n",
       "      <th>TAVG</th>\n",
       "      <th>TMAX</th>\n",
       "      <th>TMIN</th>\n",
       "      <th>EMNT</th>\n",
       "      <th>EMXT</th>\n",
       "      <th>DX90</th>\n",
       "      <th>DT32</th>\n",
       "      <th>FZF5</th>\n",
       "      <th>FZF0</th>\n",
       "      <th>PRCP</th>\n",
       "      <th>DSNW</th>\n",
       "      <th>EMSN</th>\n",
       "    </tr>\n",
       "  </thead>\n",
       "  <tbody>\n",
       "    <tr>\n",
       "      <th>Year</th>\n",
       "      <td>1.000000</td>\n",
       "      <td>0.956296</td>\n",
       "      <td>-0.149811</td>\n",
       "      <td>-0.277457</td>\n",
       "      <td>0.043565</td>\n",
       "      <td>0.365289</td>\n",
       "      <td>-0.236938</td>\n",
       "      <td>-0.311135</td>\n",
       "      <td>0.104264</td>\n",
       "      <td>0.101948</td>\n",
       "      <td>0.264768</td>\n",
       "      <td>0.282832</td>\n",
       "      <td>0.083859</td>\n",
       "      <td>0.102578</td>\n",
       "    </tr>\n",
       "    <tr>\n",
       "      <th>Value</th>\n",
       "      <td>0.956296</td>\n",
       "      <td>1.000000</td>\n",
       "      <td>-0.210708</td>\n",
       "      <td>-0.295292</td>\n",
       "      <td>-0.052338</td>\n",
       "      <td>0.322000</td>\n",
       "      <td>-0.301095</td>\n",
       "      <td>-0.345475</td>\n",
       "      <td>0.176028</td>\n",
       "      <td>0.152303</td>\n",
       "      <td>0.246069</td>\n",
       "      <td>0.323262</td>\n",
       "      <td>0.103236</td>\n",
       "      <td>0.057057</td>\n",
       "    </tr>\n",
       "    <tr>\n",
       "      <th>TAVG</th>\n",
       "      <td>-0.149811</td>\n",
       "      <td>-0.210708</td>\n",
       "      <td>1.000000</td>\n",
       "      <td>0.905886</td>\n",
       "      <td>0.861605</td>\n",
       "      <td>0.315320</td>\n",
       "      <td>0.530870</td>\n",
       "      <td>0.556032</td>\n",
       "      <td>-0.634845</td>\n",
       "      <td>-0.347622</td>\n",
       "      <td>-0.151258</td>\n",
       "      <td>-0.259605</td>\n",
       "      <td>-0.383273</td>\n",
       "      <td>-0.050377</td>\n",
       "    </tr>\n",
       "    <tr>\n",
       "      <th>TMAX</th>\n",
       "      <td>-0.277457</td>\n",
       "      <td>-0.295292</td>\n",
       "      <td>0.905886</td>\n",
       "      <td>1.000000</td>\n",
       "      <td>0.568150</td>\n",
       "      <td>0.202003</td>\n",
       "      <td>0.582652</td>\n",
       "      <td>0.625730</td>\n",
       "      <td>-0.415467</td>\n",
       "      <td>-0.349855</td>\n",
       "      <td>-0.262782</td>\n",
       "      <td>-0.402195</td>\n",
       "      <td>-0.492891</td>\n",
       "      <td>-0.154127</td>\n",
       "    </tr>\n",
       "    <tr>\n",
       "      <th>TMIN</th>\n",
       "      <td>0.043565</td>\n",
       "      <td>-0.052338</td>\n",
       "      <td>0.861605</td>\n",
       "      <td>0.568150</td>\n",
       "      <td>1.000000</td>\n",
       "      <td>0.366161</td>\n",
       "      <td>0.334964</td>\n",
       "      <td>0.323687</td>\n",
       "      <td>-0.736506</td>\n",
       "      <td>-0.274606</td>\n",
       "      <td>0.012773</td>\n",
       "      <td>-0.024335</td>\n",
       "      <td>-0.171444</td>\n",
       "      <td>0.088283</td>\n",
       "    </tr>\n",
       "    <tr>\n",
       "      <th>EMNT</th>\n",
       "      <td>0.365289</td>\n",
       "      <td>0.322000</td>\n",
       "      <td>0.315320</td>\n",
       "      <td>0.202003</td>\n",
       "      <td>0.366161</td>\n",
       "      <td>1.000000</td>\n",
       "      <td>-0.018405</td>\n",
       "      <td>0.041563</td>\n",
       "      <td>-0.078218</td>\n",
       "      <td>-0.054953</td>\n",
       "      <td>-0.013751</td>\n",
       "      <td>0.044804</td>\n",
       "      <td>-0.070905</td>\n",
       "      <td>0.028324</td>\n",
       "    </tr>\n",
       "    <tr>\n",
       "      <th>EMXT</th>\n",
       "      <td>-0.236938</td>\n",
       "      <td>-0.301095</td>\n",
       "      <td>0.530870</td>\n",
       "      <td>0.582652</td>\n",
       "      <td>0.334964</td>\n",
       "      <td>-0.018405</td>\n",
       "      <td>1.000000</td>\n",
       "      <td>0.673758</td>\n",
       "      <td>-0.266135</td>\n",
       "      <td>-0.355610</td>\n",
       "      <td>-0.316751</td>\n",
       "      <td>-0.458470</td>\n",
       "      <td>-0.160791</td>\n",
       "      <td>-0.021591</td>\n",
       "    </tr>\n",
       "    <tr>\n",
       "      <th>DX90</th>\n",
       "      <td>-0.311135</td>\n",
       "      <td>-0.345475</td>\n",
       "      <td>0.556032</td>\n",
       "      <td>0.625730</td>\n",
       "      <td>0.323687</td>\n",
       "      <td>0.041563</td>\n",
       "      <td>0.673758</td>\n",
       "      <td>1.000000</td>\n",
       "      <td>-0.209924</td>\n",
       "      <td>-0.307056</td>\n",
       "      <td>-0.207875</td>\n",
       "      <td>-0.606575</td>\n",
       "      <td>-0.203850</td>\n",
       "      <td>0.085994</td>\n",
       "    </tr>\n",
       "    <tr>\n",
       "      <th>DT32</th>\n",
       "      <td>0.104264</td>\n",
       "      <td>0.176028</td>\n",
       "      <td>-0.634845</td>\n",
       "      <td>-0.415467</td>\n",
       "      <td>-0.736506</td>\n",
       "      <td>-0.078218</td>\n",
       "      <td>-0.266135</td>\n",
       "      <td>-0.209924</td>\n",
       "      <td>1.000000</td>\n",
       "      <td>0.099069</td>\n",
       "      <td>-0.068007</td>\n",
       "      <td>-0.025571</td>\n",
       "      <td>0.161798</td>\n",
       "      <td>0.023935</td>\n",
       "    </tr>\n",
       "    <tr>\n",
       "      <th>FZF5</th>\n",
       "      <td>0.101948</td>\n",
       "      <td>0.152303</td>\n",
       "      <td>-0.347622</td>\n",
       "      <td>-0.349855</td>\n",
       "      <td>-0.274606</td>\n",
       "      <td>-0.054953</td>\n",
       "      <td>-0.355610</td>\n",
       "      <td>-0.307056</td>\n",
       "      <td>0.099069</td>\n",
       "      <td>1.000000</td>\n",
       "      <td>-0.033756</td>\n",
       "      <td>0.212036</td>\n",
       "      <td>0.117511</td>\n",
       "      <td>-0.070669</td>\n",
       "    </tr>\n",
       "    <tr>\n",
       "      <th>FZF0</th>\n",
       "      <td>0.264768</td>\n",
       "      <td>0.246069</td>\n",
       "      <td>-0.151258</td>\n",
       "      <td>-0.262782</td>\n",
       "      <td>0.012773</td>\n",
       "      <td>-0.013751</td>\n",
       "      <td>-0.316751</td>\n",
       "      <td>-0.207875</td>\n",
       "      <td>-0.068007</td>\n",
       "      <td>-0.033756</td>\n",
       "      <td>1.000000</td>\n",
       "      <td>0.171909</td>\n",
       "      <td>0.026303</td>\n",
       "      <td>0.060619</td>\n",
       "    </tr>\n",
       "    <tr>\n",
       "      <th>PRCP</th>\n",
       "      <td>0.282832</td>\n",
       "      <td>0.323262</td>\n",
       "      <td>-0.259605</td>\n",
       "      <td>-0.402195</td>\n",
       "      <td>-0.024335</td>\n",
       "      <td>0.044804</td>\n",
       "      <td>-0.458470</td>\n",
       "      <td>-0.606575</td>\n",
       "      <td>-0.025571</td>\n",
       "      <td>0.212036</td>\n",
       "      <td>0.171909</td>\n",
       "      <td>1.000000</td>\n",
       "      <td>0.160704</td>\n",
       "      <td>0.177398</td>\n",
       "    </tr>\n",
       "    <tr>\n",
       "      <th>DSNW</th>\n",
       "      <td>0.083859</td>\n",
       "      <td>0.103236</td>\n",
       "      <td>-0.383273</td>\n",
       "      <td>-0.492891</td>\n",
       "      <td>-0.171444</td>\n",
       "      <td>-0.070905</td>\n",
       "      <td>-0.160791</td>\n",
       "      <td>-0.203850</td>\n",
       "      <td>0.161798</td>\n",
       "      <td>0.117511</td>\n",
       "      <td>0.026303</td>\n",
       "      <td>0.160704</td>\n",
       "      <td>1.000000</td>\n",
       "      <td>0.209002</td>\n",
       "    </tr>\n",
       "    <tr>\n",
       "      <th>EMSN</th>\n",
       "      <td>0.102578</td>\n",
       "      <td>0.057057</td>\n",
       "      <td>-0.050377</td>\n",
       "      <td>-0.154127</td>\n",
       "      <td>0.088283</td>\n",
       "      <td>0.028324</td>\n",
       "      <td>-0.021591</td>\n",
       "      <td>0.085994</td>\n",
       "      <td>0.023935</td>\n",
       "      <td>-0.070669</td>\n",
       "      <td>0.060619</td>\n",
       "      <td>0.177398</td>\n",
       "      <td>0.209002</td>\n",
       "      <td>1.000000</td>\n",
       "    </tr>\n",
       "  </tbody>\n",
       "</table>\n",
       "</div>"
      ],
      "text/plain": [
       "           Year     Value      TAVG      TMAX      TMIN      EMNT      EMXT  \\\n",
       "Year   1.000000  0.956296 -0.149811 -0.277457  0.043565  0.365289 -0.236938   \n",
       "Value  0.956296  1.000000 -0.210708 -0.295292 -0.052338  0.322000 -0.301095   \n",
       "TAVG  -0.149811 -0.210708  1.000000  0.905886  0.861605  0.315320  0.530870   \n",
       "TMAX  -0.277457 -0.295292  0.905886  1.000000  0.568150  0.202003  0.582652   \n",
       "TMIN   0.043565 -0.052338  0.861605  0.568150  1.000000  0.366161  0.334964   \n",
       "EMNT   0.365289  0.322000  0.315320  0.202003  0.366161  1.000000 -0.018405   \n",
       "EMXT  -0.236938 -0.301095  0.530870  0.582652  0.334964 -0.018405  1.000000   \n",
       "DX90  -0.311135 -0.345475  0.556032  0.625730  0.323687  0.041563  0.673758   \n",
       "DT32   0.104264  0.176028 -0.634845 -0.415467 -0.736506 -0.078218 -0.266135   \n",
       "FZF5   0.101948  0.152303 -0.347622 -0.349855 -0.274606 -0.054953 -0.355610   \n",
       "FZF0   0.264768  0.246069 -0.151258 -0.262782  0.012773 -0.013751 -0.316751   \n",
       "PRCP   0.282832  0.323262 -0.259605 -0.402195 -0.024335  0.044804 -0.458470   \n",
       "DSNW   0.083859  0.103236 -0.383273 -0.492891 -0.171444 -0.070905 -0.160791   \n",
       "EMSN   0.102578  0.057057 -0.050377 -0.154127  0.088283  0.028324 -0.021591   \n",
       "\n",
       "           DX90      DT32      FZF5      FZF0      PRCP      DSNW      EMSN  \n",
       "Year  -0.311135  0.104264  0.101948  0.264768  0.282832  0.083859  0.102578  \n",
       "Value -0.345475  0.176028  0.152303  0.246069  0.323262  0.103236  0.057057  \n",
       "TAVG   0.556032 -0.634845 -0.347622 -0.151258 -0.259605 -0.383273 -0.050377  \n",
       "TMAX   0.625730 -0.415467 -0.349855 -0.262782 -0.402195 -0.492891 -0.154127  \n",
       "TMIN   0.323687 -0.736506 -0.274606  0.012773 -0.024335 -0.171444  0.088283  \n",
       "EMNT   0.041563 -0.078218 -0.054953 -0.013751  0.044804 -0.070905  0.028324  \n",
       "EMXT   0.673758 -0.266135 -0.355610 -0.316751 -0.458470 -0.160791 -0.021591  \n",
       "DX90   1.000000 -0.209924 -0.307056 -0.207875 -0.606575 -0.203850  0.085994  \n",
       "DT32  -0.209924  1.000000  0.099069 -0.068007 -0.025571  0.161798  0.023935  \n",
       "FZF5  -0.307056  0.099069  1.000000 -0.033756  0.212036  0.117511 -0.070669  \n",
       "FZF0  -0.207875 -0.068007 -0.033756  1.000000  0.171909  0.026303  0.060619  \n",
       "PRCP  -0.606575 -0.025571  0.212036  0.171909  1.000000  0.160704  0.177398  \n",
       "DSNW  -0.203850  0.161798  0.117511  0.026303  0.160704  1.000000  0.209002  \n",
       "EMSN   0.085994  0.023935 -0.070669  0.060619  0.177398  0.209002  1.000000  "
      ]
     },
     "execution_count": 31,
     "metadata": {},
     "output_type": "execute_result"
    }
   ],
   "source": [
    "# correlation matrix\n",
    "corr = df_final.corr()\n",
    "corr"
   ]
  },
  {
   "cell_type": "code",
   "execution_count": 32,
   "metadata": {},
   "outputs": [
    {
     "data": {
      "image/png": "[encoded data removed]",
      "text/plain": [
       "<Figure size 432x288 with 2 Axes>"
      ]
     },
     "metadata": {
      "needs_background": "light"
     },
     "output_type": "display_data"
    }
   ],
   "source": [
    "# heatmap\n",
    "sns.heatmap(corr, xticklabels=corr.columns, yticklabels=corr.columns)\n",
    "plt.show()"
   ]
  },
  {
   "cell_type": "markdown",
   "metadata": {},
   "source": [
    "From the two figures above, we can result that Maximum temperature (TMAX) and Minimum temperature (TMIN) are most closely related to Average Temperature (TAVG). This is the case because when the temperature goes down, the average temperature goes down and vice versa. Another interesting relationship is between the number of days with maximum temperature above 32.2°C (DX90) and extreme maximum temperature for the period (EMXT), r(90) = 0.67. This positive relationship shows that when there were more prolonged periods of high temperatures in a year, the maximum temperature was usually also higher.\n",
    "\n",
    "When we look at the relationships between the dependent variable (Value) and the other variables, we can see that the extreme minimum temperature (EMNT) is one of the most closely related to value. This positive relationship shows that when the extreme minimum temperature in a year is lower, the yield of corn is higher. This information gives an exciting insight into extreme weather conditions that significantly impact the yield of crops. Let's further explore the relationships between the dependent and independent variables by plotting a scatterplot matrix for the top five correlations. Note that the Year variable is included since the first plot is empty, and without, the EMNT plot would be empty."
   ]
  },
  {
   "cell_type": "code",
   "execution_count": 33,
   "metadata": {},
   "outputs": [
    {
     "data": {
      "text/plain": [
       "<seaborn.axisgrid.PairGrid at 0x1ea29c818e0>"
      ]
     },
     "execution_count": 33,
     "metadata": {},
     "output_type": "execute_result"
    },
    {
     "data": {
      "image/png": "[encoded data removed]",
      "text/plain": [
       "<Figure size 1080x180 with 6 Axes>"
      ]
     },
     "metadata": {
      "needs_background": "light"
     },
     "output_type": "display_data"
    }
   ],
   "source": [
    "# scatterplot matrix\n",
    "sns.pairplot(\n",
    "    df_final,\n",
    "    x_vars=['Year','EMNT', 'EMXT', 'DX90', 'TMAX','PRCP'],\n",
    "    y_vars=['Value'])"
   ]
  },
  {
   "cell_type": "markdown",
   "metadata": {},
   "source": [
    "At first, it is not entirely clear to spot the relationships with the naked eye. Therefore, let's look at the most considerable correlation between the number of days with a maximum temperature above 32.2°C (DX90) and Value, r(90) = -0.34."
   ]
  },
  {
   "cell_type": "code",
   "execution_count": 34,
   "metadata": {},
   "outputs": [
    {
     "data": {
      "image/png": "[encoded data removed]",
      "text/plain": [
       "<Figure size 360x360 with 1 Axes>"
      ]
     },
     "metadata": {
      "needs_background": "light"
     },
     "output_type": "display_data"
    }
   ],
   "source": [
    "# relationship between DX90 and corn yield\n",
    "sns.lmplot(x='DX90', y='Value', data=df_final)\n",
    "plt.title('Yield of corn and days with a maximum temperature above 32.2°C')\n",
    "plt.xlabel(\"Number of days with a maximum temperature above 32.2°C\")\n",
    "plt.ylabel(\"Yield (bu/ac)\")\n",
    "plt.show()"
   ]
  },
  {
   "cell_type": "markdown",
   "metadata": {},
   "source": [
    "As can be seen above, the relationship is not that strong. However, just like with EMNT, having DX90 among the most correlated independent variables proves that extreme weather conditions can impact the yield of corn crops in Nebraska. In this case, the higher number of days where the temperature rose above 32.2°C, the lower the yield for that year. Next, let's take a look at the distribution of FZF0, which is an independent variable that shows the temperature value of the first freeze (at or less than 32 degrees Fahrenheit/0 degrees Celsius)."
   ]
  },
  {
   "cell_type": "code",
   "execution_count": 35,
   "metadata": {},
   "outputs": [
    {
     "name": "stdout",
     "output_type": "stream",
     "text": [
      "The median first freeze temperature is: -0.6 °C\n",
      "The mean first freeze temperature is: -1.2655555555555553 °C\n"
     ]
    },
    {
     "data": {
      "image/png": "[encoded data removed]",
      "text/plain": [
       "<Figure size 432x288 with 1 Axes>"
      ]
     },
     "metadata": {
      "needs_background": "light"
     },
     "output_type": "display_data"
    }
   ],
   "source": [
    "# remove warning\n",
    "warnings.filterwarnings('ignore')\n",
    "\n",
    "#calculate and print mean and median for FZF0\n",
    "mean_size = df_final['FZF0'].mean()\n",
    "median_size = df_final['FZF0'].median()\n",
    "print(f'The median first freeze temperature is: {median_size} °C')\n",
    "print(f'The mean first freeze temperature is: {mean_size} °C')\n",
    "\n",
    "# plot the distribution of FZF0 with Kernel Density Estimate, median and mean values and actual values\n",
    "sns.distplot(df_final['FZF0'], rug=True)\n",
    "plt.title('First freeze <= to 32F/0C of the year.')\n",
    "plt.axvline(median_size, 0, 100, color='green', label='median')\n",
    "plt.axvline(mean_size, 0, 100, color='blue', label='mean') \n",
    "plt.legend() \n",
    "plt.show()"
   ]
  },
  {
   "cell_type": "markdown",
   "metadata": {},
   "source": [
    "Some things to note about this distribution:\n",
    "\n",
    "* It has one peak (or mode - unimodal)\n",
    "* It has a 'tail' on the left (left-skewed)\n",
    "\n",
    "Because the distribution is left-skewed, the median is higher than the mean. In the plot above, the Kernel Density Estimate is also plotted, which shows impossible values. Therefore the actual values are plotted as well."
   ]
  },
  {
   "cell_type": "markdown",
   "metadata": {},
   "source": [
    "### Predictive model\n",
    "\n",
    "When considering the weather for predicting crop yields, many would assume that they are linearly related. For example, more rain would result in higher yields. However, we should also consider the impact that extreme weather conditions have on the yield of crops. Long periods of drought or extensive amounts of rain can have a massive effect on the yield of the crops. Therefore, we will explore two different predictive models, one linear and one non-linear. Afterwards, we will evaluate each model to see if the existence of critical thresholds also characterizes the relationship between weather and corn yield.\n",
    "#### Multiple linear regression\n",
    "\n",
    "Multiple linear regression is a linear model with multiple independent variables (predictors). When considering multiple independent variables, a concern with multiple regression is overfitting. That is when a model can very precisely predict the values for a particular dataset but fails when it has to predict from new data. Therefore we split the data into a train set and a test set. Below, the independent and dependent variables are selected, and the data is split into a training set and a test set. "
   ]
  },
  {
   "cell_type": "code",
   "execution_count": 36,
   "metadata": {},
   "outputs": [],
   "source": [
    "# split the data\n",
    "X = df_final.drop(columns='Value')\n",
    "y = df_final['Value']\n",
    "X_train, X_test, y_train, y_test = train_test_split(X, y, test_size=0.3, random_state=1)"
   ]
  },
  {
   "cell_type": "markdown",
   "metadata": {},
   "source": [
    "Afterwards, the linear model is trained"
   ]
  },
  {
   "cell_type": "code",
   "execution_count": 37,
   "metadata": {},
   "outputs": [],
   "source": [
    "# Multiple linear regression\n",
    "lm = LinearRegression() \n",
    "model = lm.fit(X_train, y_train) "
   ]
  },
  {
   "cell_type": "markdown",
   "metadata": {},
   "source": [
    "#### Random Forest Regressor\n",
    "\n",
    "The second predictive model is Random Forest Regressor. Random forest is a supervised algorithm with high accuracy. Where other predictive models struggle with overfitting, random forest has less overfitting because if there are enough trees in the forest, the classifier won’t overfit the model. The disadvantage of that is that the algorithm is harder to understand. Besides that, having a large number of trees can make the algorithm too slow. In this case, the model is initially trained using 50 trees or estimators."
   ]
  },
  {
   "cell_type": "code",
   "execution_count": 38,
   "metadata": {},
   "outputs": [],
   "source": [
    "# Random forrestRegressor\n",
    "rf = RandomForestRegressor(random_state=1, n_estimators=50)\n",
    "rf = rf.fit(X_train, y_train)"
   ]
  },
  {
   "cell_type": "markdown",
   "metadata": {},
   "source": [
    "### Evaluation \n",
    "To decide which model is best, we must evaluate the performance of each model and see if we can improve them by exploring different parameters.\n",
    "\n",
    "#### Evaluation of multiple linear regression\n",
    "At first, we evaluate the performance of the multiple linear regression model. First, we make predictions for the test data and calculate the R^2 score."
   ]
  },
  {
   "cell_type": "code",
   "execution_count": 39,
   "metadata": {
    "scrolled": true
   },
   "outputs": [
    {
     "name": "stdout",
     "output_type": "stream",
     "text": [
      "The R^2 score for the multiple linear regression model is: 0.8646699727207402\n"
     ]
    }
   ],
   "source": [
    "# calculate the R^2 score for the linear regression model\n",
    "y_test_p_lm = lm.predict(X_test)\n",
    "R2_LR = r2_score(y_test, y_test_p_lm)\n",
    "print(f'The R^2 score for the multiple linear regression model is: {R2_LR}')"
   ]
  },
  {
   "cell_type": "markdown",
   "metadata": {},
   "source": [
    "The R^2 is 0.86, which means the model explains 86% of the variation in yield. Next, we calculate the root mean squared error (RMSE)."
   ]
  },
  {
   "cell_type": "code",
   "execution_count": 40,
   "metadata": {},
   "outputs": [
    {
     "name": "stdout",
     "output_type": "stream",
     "text": [
      "The RMSE for the multiple linear regression model is: 18.303516192812673\n"
     ]
    }
   ],
   "source": [
    "# calculate the RMSE for the linear regression model\n",
    "RMSE_LR = math.sqrt(mean_squared_error(y_test, y_test_p_lm))\n",
    "print(f'The RMSE for the multiple linear regression model is: {RMSE_LR}')"
   ]
  },
  {
   "cell_type": "markdown",
   "metadata": {},
   "source": [
    "The RMSE is 18.30. This means that we are typically about 18.30 bachels (464.82 Kg) per acre off in our predicted yield compared to the actual yield. Finally, let's plot the predicted yield against the actual yield."
   ]
  },
  {
   "cell_type": "code",
   "execution_count": 41,
   "metadata": {},
   "outputs": [
    {
     "data": {
      "image/png": "[encoded data removed]",
      "text/plain": [
       "<Figure size 432x288 with 1 Axes>"
      ]
     },
     "metadata": {
      "needs_background": "light"
     },
     "output_type": "display_data"
    }
   ],
   "source": [
    "# plot predicted yield against actual yield for the linear regression model\n",
    "sns.scatterplot(x=y_test, y=y_test_p_lm)\n",
    "plt.xlabel('Actual yield')\n",
    "plt.ylabel('Predicted yield')\n",
    "plt.xlim([25,200]) \n",
    "plt.ylim([25,200])\n",
    "plt.plot([25, 200], [25, 200], color='red', lw=3)\n",
    "plt.show()"
   ]
  },
  {
   "cell_type": "markdown",
   "metadata": {},
   "source": [
    "Overall, we can see that the model does quite well at predicting the actual yield. There are no significant outliers from the main line, which means that the model performs quite well for the whole yield range (from low to high)."
   ]
  },
  {
   "cell_type": "markdown",
   "metadata": {},
   "source": [
    "#### Evaluation of random forest regressor\n",
    "\n",
    "As with the multiple linear regression model, we start evaluating the random forest regression model by calculating the R^2 score."
   ]
  },
  {
   "cell_type": "code",
   "execution_count": 42,
   "metadata": {},
   "outputs": [
    {
     "name": "stdout",
     "output_type": "stream",
     "text": [
      "The R^2 score for the random forest regressor model is: 0.956982177289942\n"
     ]
    }
   ],
   "source": [
    "# calculate the R^2 score for the linear regression model\n",
    "y_test_p_rf = rf.predict(X_test)\n",
    "R2_RF = r2_score(y_test, y_test_p_rf)\n",
    "print(f'The R^2 score for the random forest regressor model is: {R2_RF}')"
   ]
  },
  {
   "cell_type": "markdown",
   "metadata": {},
   "source": [
    "The R^2 is 0.96, which means the model explains 96% of the variation in yield. Next, we calculate the root mean squared error (RMSE)."
   ]
  },
  {
   "cell_type": "code",
   "execution_count": 43,
   "metadata": {},
   "outputs": [
    {
     "name": "stdout",
     "output_type": "stream",
     "text": [
      "The RMSE for the multiple linear regression model is: 18.303516192812673\n"
     ]
    }
   ],
   "source": [
    "# calculate the RMSE for the linear regression model\n",
    "RMSE_RF = math.sqrt(mean_squared_error(y_test, y_test_p_rf))\n",
    "print(f'The RMSE for the multiple linear regression model is: {RMSE_LR}')"
   ]
  },
  {
   "cell_type": "markdown",
   "metadata": {},
   "source": [
    "The RMSE is 18.30. This means that we are typically about 18.30 bachels (464.82 Kg) per acre off in our predicted yield. Finally, let's plot the predicted yield against the actual yield."
   ]
  },
  {
   "cell_type": "code",
   "execution_count": 44,
   "metadata": {},
   "outputs": [
    {
     "data": {
      "image/png": "[encoded data removed]",
      "text/plain": [
       "<Figure size 432x288 with 1 Axes>"
      ]
     },
     "metadata": {
      "needs_background": "light"
     },
     "output_type": "display_data"
    }
   ],
   "source": [
    "# plot predicted yield against actual yield for the random forest model\n",
    "sns.scatterplot(x=y_test, y=y_test_p_rf)\n",
    "plt.xlabel('Actual yield')\n",
    "plt.ylabel('Predicted yield')\n",
    "plt.xlim([25,200]) \n",
    "plt.ylim([25,200])\n",
    "plt.plot([25, 200], [25, 200], color='red', lw=3)\n",
    "plt.show()"
   ]
  },
  {
   "cell_type": "markdown",
   "metadata": {},
   "source": [
    "#### Model conclusion\n",
    "When we compare the scores from both models, we can conclude that the random forest regression model performs better than the multiple regression model. Now let's see if we can improve the performance of the random forest model by adjusting different parameters. First, let's see the impact on the scores when we change the split in the data so that the training data is 80% of all the data."
   ]
  },
  {
   "cell_type": "code",
   "execution_count": 45,
   "metadata": {},
   "outputs": [
    {
     "name": "stdout",
     "output_type": "stream",
     "text": [
      "The R^2 score for the random forest regressor model is: 0.9753541664107408\n",
      "The RMSE for the multiple linear regression model is: 18.303516192812673\n"
     ]
    }
   ],
   "source": [
    "# split the data 80/20\n",
    "X_train, X_test, y_train, y_test = train_test_split(X, y, test_size=0.2, random_state=1)\n",
    "\n",
    "# Random forrestRegressor\n",
    "rf = RandomForestRegressor(random_state=1, n_estimators=50)\n",
    "rf = rf.fit(X_train, y_train)\n",
    "\n",
    "# calculate R^2 score and RMSE for updated random forest model\n",
    "y_test_p_rf = rf.predict(X_test)\n",
    "R2_RF = r2_score(y_test, y_test_p_rf)\n",
    "print(f'The R^2 score for the random forest regressor model is: {R2_RF}')\n",
    "RMSE_RF = math.sqrt(mean_squared_error(y_test, y_test_p_rf))\n",
    "print(f'The RMSE for the multiple linear regression model is: {RMSE_LR}')"
   ]
  },
  {
   "cell_type": "markdown",
   "metadata": {},
   "source": [
    "After changing the data split, we can see a slight improvement in the model. The R^2 score has increased from 96% to 98%. The RMSE stayed the same with 18.30 bachels (464.82 Kg) per acre. Now, let's see if we can further improve the model by adjusting the random state in splitting the dataset."
   ]
  },
  {
   "cell_type": "code",
   "execution_count": 46,
   "metadata": {},
   "outputs": [
    {
     "name": "stdout",
     "output_type": "stream",
     "text": [
      "The R^2 score for the random forest regressor model is: 0.9888716004142413\n",
      "The RMSE for the multiple linear regression model is: 18.303516192812673\n"
     ]
    }
   ],
   "source": [
    "# change random state\n",
    "X_train, X_test, y_train, y_test = train_test_split(X, y, test_size=0.2, random_state=3)\n",
    "\n",
    "# Random forrestRegressor\n",
    "rf = RandomForestRegressor(random_state=1, n_estimators=50)\n",
    "rf = rf.fit(X_train, y_train)\n",
    "\n",
    "# calculate R^2 score and RMSE for updated random forest model\n",
    "y_test_p_rf = rf.predict(X_test)\n",
    "R2_RF = r2_score(y_test, y_test_p_rf)\n",
    "print(f'The R^2 score for the random forest regressor model is: {R2_RF}')\n",
    "RMSE_RF = math.sqrt(mean_squared_error(y_test, y_test_p_rf))\n",
    "print(f'The RMSE for the multiple linear regression model is: {RMSE_LR}')"
   ]
  },
  {
   "cell_type": "markdown",
   "metadata": {},
   "source": [
    "Again, we can see a slight improvement in the model. The R^2 score has increased from 98% to 99%. The RMSE stayed the same with 18.30 bachels (464.82 Kg) per acre. Now, let's see if we can improve the model further by adjusting the number of trees in the forest."
   ]
  },
  {
   "cell_type": "code",
   "execution_count": 47,
   "metadata": {},
   "outputs": [
    {
     "name": "stdout",
     "output_type": "stream",
     "text": [
      "The R^2 score for the random forest regressor model is: 0.9879860249555087\n",
      "The RMSE for the multiple linear regression model is: 18.303516192812673\n"
     ]
    }
   ],
   "source": [
    "# split the data\n",
    "X_train, X_test, y_train, y_test = train_test_split(X, y, test_size=0.2, random_state=3)\n",
    "\n",
    "# change n_estimators\n",
    "rf = RandomForestRegressor(random_state=1, n_estimators=100)\n",
    "rf = rf.fit(X_train, y_train)\n",
    "\n",
    "# calculate R^2 score and RMSE for updated random forest model\n",
    "y_test_p_rf = rf.predict(X_test)\n",
    "R2_RF = r2_score(y_test, y_test_p_rf)\n",
    "print(f'The R^2 score for the random forest regressor model is: {R2_RF}')\n",
    "RMSE_RF = math.sqrt(mean_squared_error(y_test, y_test_p_rf))\n",
    "print(f'The RMSE for the multiple linear regression model is: {RMSE_LR}')"
   ]
  },
  {
   "cell_type": "markdown",
   "metadata": {},
   "source": [
    "This time, the R^2 score has decreased slightly. The RMSE has stayed the same. Finally, let's plot the final predicted yield against the actual yield for the best performing version of the model."
   ]
  },
  {
   "cell_type": "code",
   "execution_count": 24,
   "metadata": {},
   "outputs": [
    {
     "name": "stdout",
     "output_type": "stream",
     "text": [
      "The R^2 score for the random forest regressor model is: 0.9888716004142413\n",
      "The RMSE for the multiple linear regression model is: 18.303516192812673\n"
     ]
    },
    {
     "data": {
      "image/png": "[encoded data removed]",
      "text/plain": [
       "<Figure size 432x288 with 1 Axes>"
      ]
     },
     "metadata": {
      "needs_background": "light"
     },
     "output_type": "display_data"
    }
   ],
   "source": [
    "# split the data 80/20\n",
    "X_train, X_test, y_train, y_test = train_test_split(X, y, test_size=0.2, random_state=3)\n",
    "\n",
    "# Random forrestRegressor\n",
    "rf = RandomForestRegressor(random_state=1, n_estimators=50)\n",
    "rf = rf.fit(X_train, y_train)\n",
    "\n",
    "# calculate R^2 score and RMSE for updated random forest model\n",
    "y_test_p_rf = rf.predict(X_test)\n",
    "R2_RF = r2_score(y_test, y_test_p_rf)\n",
    "print(f'The R^2 score for the random forest regressor model is: {R2_RF}')\n",
    "RMSE_RF = math.sqrt(mean_squared_error(y_test, y_test_p_rf))\n",
    "print(f'The RMSE for the multiple linear regression model is: {RMSE_LR}')\n",
    "\n",
    "# plot predicted yield against actual yield for the random forest model\n",
    "sns.scatterplot(x=y_test, y=y_test_p_rf)\n",
    "plt.xlabel('Actual yield')\n",
    "plt.ylabel('Predicted yield')\n",
    "plt.xlim([25,200]) \n",
    "plt.ylim([25,200])\n",
    "plt.plot([25, 200], [25, 200], color='red', lw=3)\n",
    "plt.show()"
   ]
  },
  {
   "cell_type": "markdown",
   "metadata": {},
   "source": [
    "### Final conclusion and discussion\n",
    "As can be seen above, after optimizing the model, the predicted values have come much closer to the actual values compared to the multiple linear regression model. Since some of the points are below the red line at the right part of the graph, we can conclude that this model has a slight tendency to undershoot for higher yields.\n",
    "\n",
    "Because this model performs well, it does have some practical implications. However, since the RMSE is higher than the actual change in yield from year to year, it is not suggested to use this model to predict the yield for the upcoming ten years or so. When considering the growing population, global warming, and food security, this model can give a good prediction on corn yield for the years after. This information can, in turn, be useful for policymakers that struggle with battling food security. However, this model does need some extensive and detailed weather information to work correctly. Concerning the fact that global warming is making our weather more unpredictable, it is hard to say if we will be able to predict this type of weather information. It is therefore unlikely that this model works properly for predicting future corn yields in Nebraska. Moreover, since the increase in corn yield is highly correlated with the year, it should be noted that a similar model could most likely be constructed without the weather variables."
   ]
  },
  {
   "cell_type": "markdown",
   "metadata": {},
   "source": [
    "### References \n",
    "\n",
    "<br> CBS. (2018, September 7). Bodemgebruik; uitgebreide gebruiksvorm, per gemeente. Opgehaald van https://opendata.cbs.nl/: https://opendata.cbs.nl/statline/#/CBS/nl/dataset/70262ned/table?fromstatweb\n",
    "\n",
    "<br> Lindsey, R., & Dahlman, L. (2021, March 15). Climate Change: Global Temperature. Opgehaald van Climate.Gov: https://www.climate.gov/news-features/understanding-climate/climate-change-global-temperature#:~:text=According%20to%20NOAA's%202020%20Annual,more%20than%20twice%20that%20rate.\n",
    "\n",
    "<br> Meteostat Developers. (sd). Meteostat Developers. Opgehaald van https://dev.meteostat.net/: https://dev.meteostat.net/\n",
    "\n",
    "<br> Rijksoverheid. (2021, January 22). Nederlandse landbouwexport in 2020 95,6 miljard euro. Opgehaald van https://www.rijksoverheid.nl/: https://www.rijksoverheid.nl/actueel/nieuws/2021/01/22/nederlandse-landbouwexport-in-2020-956-miljard-euro#:~:text=Nederland%20exporteerde%20in%202020%20voor,van%20landbouwgoederen%20van%20buitenlandse%20makelij.\n",
    "\n",
    "<br> United Nations. (sd). Population. Opgehaald van https://www.un.org/: https://www.un.org/en/global-issues/population\n",
    "\n"
   ]
  }
 ],
 "metadata": {
  "kernelspec": {
   "display_name": "Python 3",
   "language": "python",
   "name": "python3"
  },
  "language_info": {
   "codemirror_mode": {
    "name": "ipython",
    "version": 3
   },
   "file_extension": ".py",
   "mimetype": "text/x-python",
   "name": "python",
   "nbconvert_exporter": "python",
   "pygments_lexer": "ipython3",
   "version": "3.8.5"
  }
 },
 "nbformat": 4,
 "nbformat_minor": 4
}
